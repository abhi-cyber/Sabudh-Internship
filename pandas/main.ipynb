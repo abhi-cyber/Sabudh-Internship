{
 "cells": [
  {
   "cell_type": "code",
   "execution_count": 2,
   "metadata": {},
   "outputs": [],
   "source": [
    "import pandas as pd"
   ]
  },
  {
   "cell_type": "code",
   "execution_count": null,
   "metadata": {},
   "outputs": [],
   "source": [
    "# Loading data into pandas\n",
    "df = pd.read_csv('./pokemon_data.csv')\n",
    "print(df)"
   ]
  },
  {
   "cell_type": "markdown",
   "metadata": {},
   "source": [
    "Reading Data in Pandas"
   ]
  },
  {
   "cell_type": "code",
   "execution_count": null,
   "metadata": {},
   "outputs": [],
   "source": [
    "# Read Headers\n",
    "print(df.columns)\n",
    "\n",
    "# Read each column\n",
    "print(df['Name'][0:5])\n",
    "# print(df[['Name', 'Type 1', 'HP']]) # Multiple columns at once\n",
    "\n",
    "# Read each row\n",
    "print(df.iloc[1:4]) # iloc :- integer location based indexing\n",
    "\n",
    "# Read a specific location (R,C)\n",
    "print(df.iloc[2,1])\n",
    "\n",
    "# Print data according to condition\n",
    "print(df.loc[(df['Type 1'] == 'Fire') & (df['Defense'] < 50)])"
   ]
  },
  {
   "cell_type": "code",
   "execution_count": null,
   "metadata": {},
   "outputs": [],
   "source": []
  },
  {
   "cell_type": "code",
   "execution_count": null,
   "metadata": {},
   "outputs": [],
   "source": [
    "# Sorting / Describing Data\n",
    "df.describe()\n",
    "\n",
    "df.sort_values('Name') # Sorting data in assending order\n",
    "df.sort_values('Name', ascending=False) # Sorting data in descending order"
   ]
  },
  {
   "cell_type": "code",
   "execution_count": null,
   "metadata": {},
   "outputs": [],
   "source": [
    "# Changing Data\n",
    "df['Total'] = df['HP'] + df['Attack'] + df['Defense'] + df['Sp. Atk'] + df['Sp. Def'] + df['Speed']\n",
    "\n",
    "# df = df.drop(columns=['Total']) # Droping a column\n",
    "\n",
    "# df['Total'] = df.iloc[:, 4:10].sum(axis=1) # Adding a column using iloc\n",
    "\n",
    "df.head(5)"
   ]
  },
  {
   "cell_type": "code",
   "execution_count": 27,
   "metadata": {},
   "outputs": [],
   "source": [
    "# Saving our Data (CSV, Excel, Text, etc.)\n",
    "\n",
    "df.to_csv('modified.csv', index=False)"
   ]
  },
  {
   "cell_type": "code",
   "execution_count": null,
   "metadata": {},
   "outputs": [],
   "source": [
    "# Filtering Data\n",
    "\n",
    "import re\n",
    "\n",
    "# new_df = df.loc[(df['Type 1'] == 'Grass') & (df['Type 2'] == 'Poison') & (df['HP'] > 70)]\n",
    "\n",
    "# new_df = new_df.reset_index(drop=True) # Resetting index\n",
    "\n",
    "# new_df.to_csv('filtered.csv', index=False)\n",
    "\n",
    "# df.loc[df['Name'].str.contains('Mega')] # Filtering data using string (in this case filtering data with Mega in there name)\n",
    "\n",
    "# df.loc[~df['Name'].str.contains('Mega')] # Filtering data using string (in this case filtering data without Mega in there name)\n",
    "\n",
    "# df.loc[df['Type 1'].str.contains('fire|grass', flags=re.I, regex=True)] # Filtering data using string (in this case filtering data with fire or grass in there name)\n",
    "\n",
    "df.loc[df['Name'].str.contains('^Pi[a-z]*', flags=re.I, regex=True)] # Filtering data using string (in this case filtering data with name starting with pi)"
   ]
  },
  {
   "cell_type": "code",
   "execution_count": null,
   "metadata": {},
   "outputs": [],
   "source": [
    "# Conditional Changes\n",
    "\n",
    "# df.loc[df['Type 1'] == 'Flamer', 'Type 1'] = 'Fire' # Changing data in a column\n",
    "\n",
    "# df.loc[df['Total'] > 500, ['Generation', 'Legendary']] = ['2', 'True'] # Changing data in multiple columns\n",
    "\n",
    "df.head(5)"
   ]
  },
  {
   "cell_type": "code",
   "execution_count": null,
   "metadata": {},
   "outputs": [],
   "source": [
    "# Aggregate Statistics (Groupby)\n",
    "\n",
    "df.groupby(['Type 1']).mean(numeric_only=True).sort_values('Defense', ascending=False)\n",
    "\n",
    "'''\n",
    "We also have methods like :- \n",
    "sum(), count(), mean(), median(), std(), var(), concat(), etc.\n",
    "'''"
   ]
  },
  {
   "cell_type": "code",
   "execution_count": null,
   "metadata": {},
   "outputs": [],
   "source": [
    "# Working with large amounts of data\n",
    "\n",
    "for df in pd.read_csv('modified.csv', chunksize=5):\n",
    "    print(\"CHUNK DF\")\n",
    "    print(df)"
   ]
  }
 ],
 "metadata": {
  "kernelspec": {
   "display_name": "Python 3",
   "language": "python",
   "name": "python3"
  },
  "language_info": {
   "codemirror_mode": {
    "name": "ipython",
    "version": 3
   },
   "file_extension": ".py",
   "mimetype": "text/x-python",
   "name": "python",
   "nbconvert_exporter": "python",
   "pygments_lexer": "ipython3",
   "version": "3.9.6"
  }
 },
 "nbformat": 4,
 "nbformat_minor": 2
}
